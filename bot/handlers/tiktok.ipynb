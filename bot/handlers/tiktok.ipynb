{
 "cells": [
  {
   "cell_type": "code",
   "execution_count": 1,
   "id": "initial_id",
   "metadata": {
    "collapsed": true,
    "ExecuteTime": {
     "end_time": "2023-08-27T12:33:29.717631900Z",
     "start_time": "2023-08-27T12:33:28.988069400Z"
    }
   },
   "outputs": [],
   "source": [
    "import requests\n",
    "\n",
    "url = 'https://vt.tiktok.com/ZSLt3kemo/'"
   ]
  },
  {
   "cell_type": "code",
   "execution_count": 2,
   "outputs": [
    {
     "name": "stdout",
     "output_type": "stream",
     "text": [
      "https://www.tiktok.com/@ggs68japan.official/video/7271135410170907910?_r=1&_t=8fBjgLGFKWQ\n"
     ]
    }
   ],
   "source": [
    "response = requests.get(url)\n",
    "url_request = response.url\n",
    "print(url_request)"
   ],
   "metadata": {
    "collapsed": false,
    "ExecuteTime": {
     "end_time": "2023-08-27T12:33:56.571501600Z",
     "start_time": "2023-08-27T12:33:53.748598700Z"
    }
   },
   "id": "dd74fc2fb3ddefb6"
  },
  {
   "cell_type": "code",
   "execution_count": null,
   "outputs": [],
   "source": [],
   "metadata": {
    "collapsed": false
   },
   "id": "8fd757fa9b83fe"
  }
 ],
 "metadata": {
  "kernelspec": {
   "display_name": "Python 3",
   "language": "python",
   "name": "python3"
  },
  "language_info": {
   "codemirror_mode": {
    "name": "ipython",
    "version": 2
   },
   "file_extension": ".py",
   "mimetype": "text/x-python",
   "name": "python",
   "nbconvert_exporter": "python",
   "pygments_lexer": "ipython2",
   "version": "2.7.6"
  }
 },
 "nbformat": 4,
 "nbformat_minor": 5
}
