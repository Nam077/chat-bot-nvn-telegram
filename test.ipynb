{
 "cells": [
  {
   "cell_type": "code",
   "execution_count": 5,
   "id": "initial_id",
   "metadata": {
    "collapsed": true,
    "ExecuteTime": {
     "end_time": "2023-09-05T06:35:20.606601200Z",
     "start_time": "2023-09-05T06:35:19.787229200Z"
    }
   },
   "outputs": [
    {
     "name": "stdout",
     "output_type": "stream",
     "text": [
      "{'url': 'https://cf-media.sndcdn.com/ssswARBMjqiR.128.mp3?Policy=eyJTdGF0ZW1lbnQiOlt7IlJlc291cmNlIjoiKjovL2NmLW1lZGlhLnNuZGNkbi5jb20vc3Nzd0FSQk1qcWlSLjEyOC5tcDMqIiwiQ29uZGl0aW9uIjp7IkRhdGVMZXNzVGhhbiI6eyJBV1M6RXBvY2hUaW1lIjoxNjkzODk2MTMxfX19XX0_&Signature=Jr96QTNRV~KMDdu4zp4H1gtZtZWds7ih-3M~nBqqH87YARMrJZVJUtrsaHBWPG8N0O0SOkcV2KrdvMdvmannpFolP2G8yKoVqpDYbdFUzb8x05~eKojVQAKV~b0GOe9lsz2lKeOYfN1ThBgNMr6G-ule8d~ggBdumNTa7QuuJF7eE-nJLZFpUtR4hOU5waA9qP8kTzroP6q61jk2D~vv8soxhnpBFay6z~XxgQ8M0UZ8BrBNV4cIPIfQG3K7kZiEDhWCezc5VYy5-9BR6BEbQcQhSsid0zhJa~86mQlICuB3QBpymaPpyfrFr422SSCi3XVCAqj6fdGKRld-GWGpdg__&Key-Pair-Id=APKAI6TU7MMXM5DG6EPQ', 'title': 'Truy Lùng Bảo Vật (Feat. 24k.Right & Sofia)', 'author': {'id': 1258945726, 'avatar_url': 'https://i1.sndcdn.com/avatars-dJtlnyHP6OiF9kcn-sqpsuA-large.jpg', 'city': '', 'comments_count': 0, 'country_code': 'VN', 'created_at': '2023-05-31T13:17:12Z', 'description': 'RAP VIỆT (2023) - Bình Chọn Quán Quân 🔥\\n\\n🔥 Bắt đầu từ 23:00 ngày 26 - 08 - 2023\\n🔥 Kết thúc khi MC thông báo đóng cổng vào ngày 09 - 09 - 2023\\n\\n🔥 MÃ SỐ BÌNH CHỌN: \\n\\n📱 Mã số 01: PHÁP KIỀU\\n📱 Mã số 02: SMO\\n📱 Mã số 03: TEZ\\n📱 Mã số 04: DOUBLE2T\\n📱 Mã số 05: LIU GRACE\\n📱 Mã số 06: 24K.RIGHT\\n📱 Mã số 07: HUỲNH CÔNG HIẾU\\n📱 Mã số 08: MIKELODIC\\n📱 Mã số 09: RHYDER\\n\\n📱 Bình chọn trên siêu ứng dụng giải trí VieON hoặc trang web https://voting.vieon.vn\\n------------------------\\nRap Việt Mùa 3 (2023) phát sóng 20:00 thứ 7 hàng tuần trên:\\n📺Kênh truyền hình #HTV2 và #VieGIẢITRÍ\\n▶️YouTube #VieChannel\\n📱 Xem sớm nhất trên ứng dụng #VieON \\n------------------------\\n© Chương trình Rap Việt thuộc bản quyền của VieON & Vie Channel', 'followers_count': 2382, 'followings_count': 0, 'first_name': 'Rap', 'last_name': 'Việt - Vie Channel', 'permalink_url': 'https://soundcloud.com/rapviet_viechannel', 'uri': 'https://api.soundcloud.com/users/1258945726', 'username': 'RAP VIỆT', 'kind': 'user', 'likes_count': 46, 'playlist_likes_count': 0, 'verified': False}, 'imageURL': 'https://i1.sndcdn.com/artworks-qNtjR00yDzZNRdTz-PfMghQ-t500x500.jpg'}\n"
     ]
    }
   ],
   "source": []
  },
  {
   "cell_type": "code",
   "execution_count": null,
   "outputs": [],
   "source": [],
   "metadata": {
    "collapsed": false
   },
   "id": "7e55bccf6e8df57b"
  }
 ],
 "metadata": {
  "kernelspec": {
   "display_name": "Python 3",
   "language": "python",
   "name": "python3"
  },
  "language_info": {
   "codemirror_mode": {
    "name": "ipython",
    "version": 2
   },
   "file_extension": ".py",
   "mimetype": "text/x-python",
   "name": "python",
   "nbconvert_exporter": "python",
   "pygments_lexer": "ipython2",
   "version": "2.7.6"
  }
 },
 "nbformat": 4,
 "nbformat_minor": 5
}
