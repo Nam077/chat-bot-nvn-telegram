{
 "cells": [
  {
   "cell_type": "code",
   "execution_count": null,
   "id": "initial_id",
   "metadata": {
    "collapsed": true
   },
   "outputs": [],
   "source": [
    "import requests\n",
    "import threading"
   ]
  },
  {
   "cell_type": "code",
   "execution_count": null,
   "outputs": [],
   "source": [
    "data =  {\n",
    "  \"name\": \"Quần Áo\",\n",
    "  \"quantity\": \"0123\",\n",
    "  \"price\": \"0234324\",\n",
    "  \"status\": \"available\",\n",
    "  \"type\": \"electronic\",\n",
    "  \"brand\": \"123\",\n",
    "  \"brandImage\": \"123213\",\n",
    "  \"id\": 1693475887517\n",
    "}\n",
    "\n"
   ],
   "metadata": {
    "collapsed": false
   },
   "id": "c18183ee3fdde947"
  },
  {
   "cell_type": "code",
   "execution_count": null,
   "outputs": [],
   "source": [
    "url = 'https://64ef260c219b3e2873c4056b.mockapi.io/api/Product/product/'\n",
    "\n",
    "def req"
   ],
   "metadata": {
    "collapsed": false
   },
   "id": "b51bba28d3644b83"
  }
 ],
 "metadata": {
  "kernelspec": {
   "display_name": "Python 3",
   "language": "python",
   "name": "python3"
  },
  "language_info": {
   "codemirror_mode": {
    "name": "ipython",
    "version": 2
   },
   "file_extension": ".py",
   "mimetype": "text/x-python",
   "name": "python",
   "nbconvert_exporter": "python",
   "pygments_lexer": "ipython2",
   "version": "2.7.6"
  }
 },
 "nbformat": 4,
 "nbformat_minor": 5
}
