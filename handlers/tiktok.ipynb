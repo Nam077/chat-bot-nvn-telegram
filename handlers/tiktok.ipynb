{
 "cells": [
  {
   "cell_type": "code",
   "execution_count": null,
   "outputs": [],
   "source": [
    "import concurrent\n",
    "import requests\n",
    "import json\n",
    "import os\n",
    "import pandas as pd\n",
    "from concurrent.futures import ThreadPoolExecutor\n",
    "\n",
    "\n",
    "def save_data_to_json(data, filename):\n",
    "    with open(filename, 'w', encoding='utf-8') as f:\n",
    "        json.dump(data, f, ensure_ascii=False, indent=4)\n",
    "\n",
    "\n",
    "def download_and_save_page(page_number, progress_df):\n",
    "    url = f'https://www.fontshop.com/search_data.json?page={page_number}&size=200&fields=typeface_data,opentype_features'\n",
    "    try:\n",
    "        response = requests.get(url)\n",
    "        response.raise_for_status()\n",
    "        data = response.json()\n",
    "        filename = os.path.join('data', f'data_page_{page_number}.json')\n",
    "        save_data_to_json(data, filename)\n",
    "        print(f\"Page {page_number} saved.\")\n",
    "        progress_df.at[page_number - 1, 'Completed'] = True\n",
    "        progress_df.to_csv('progress.csv', index=False)\n",
    "    except requests.exceptions.HTTPError as err:\n",
    "        print(f\"Error downloading page {page_number}: {err}\")\n",
    "        progress_df.at[page_number - 1, 'Completed'] = False\n",
    "        progress_df.to_csv('progress.csv', index=False)\n",
    "\n",
    "\n",
    "def main():\n",
    "    total_hit = 57438\n",
    "    total_page = round(total_hit / 200)\n",
    "\n",
    "    if not os.path.exists('data'):\n",
    "        os.makedirs('data')\n",
    "\n",
    "    progress_df = pd.DataFrame(columns=['Page', 'Completed'])\n",
    "    if os.path.exists('progress.csv'):\n",
    "        progress_df = pd.read_csv('progress.csv')\n",
    "    else:\n",
    "        progress_df['Page'] = range(1, total_page + 1)\n",
    "        progress_df['Completed'] = False\n",
    "\n",
    "    with ThreadPoolExecutor(max_workers=10) as executor:\n",
    "        pages_to_download = progress_df[progress_df['Completed'] == False]['Page']\n",
    "        future_to_page = {executor.submit(download_and_save_page, page, progress_df): page for page in\n",
    "                          pages_to_download}\n",
    "\n",
    "        for future in concurrent.futures.as_completed(future_to_page):\n",
    "            page = future_to_page[future]\n",
    "            # Process the future's result if needed\n",
    "\n",
    "    print(\"All pages saved.\")\n",
    "\n",
    "\n",
    "if __name__ == \"__main__\":\n",
    "    main()\n"
   ],
   "metadata": {
    "collapsed": false
   },
   "id": "869f8cde490e9961"
  },
  {
   "cell_type": "code",
   "execution_count": 7,
   "outputs": [],
   "source": [
    "import os\n",
    "import json\n",
    "\n",
    "folder_path = 'data'  # Đường dẫn đến thư mục chứa các tệp JSON\n",
    "json_data = []\n",
    "\n",
    "list_json_files = os.listdir(folder_path)\n",
    "list_json_files = [file for file in list_json_files if file.endswith('.json')]\n"
   ],
   "metadata": {
    "collapsed": false,
    "ExecuteTime": {
     "end_time": "2023-08-29T05:05:51.543996300Z",
     "start_time": "2023-08-29T05:05:45.351148Z"
    }
   },
   "id": "84f566bfec3a329b"
  },
  {
   "cell_type": "code",
   "execution_count": 12,
   "outputs": [],
   "source": [
    "import os\n",
    "import json\n",
    "import concurrent.futures\n",
    "\n",
    "def process_json_file(file_path):\n",
    "    with open(file_path, 'r', encoding='utf-8') as f:\n",
    "        data = json.load(f)\n",
    "        hits = data[\"families\"][\"hits\"][\"hits\"]\n",
    "        \n",
    "        results = []\n",
    "        for hit in hits:\n",
    "            typeface_data = hit[\"_source\"][\"typeface_data\"]\n",
    "            name = hit[\"_source\"][\"name\"]\n",
    "            images = hit[\"_source\"][\"images\"]\n",
    "            designers = hit[\"_source\"][\"designers\"]\n",
    "            \n",
    "            result = {\n",
    "                \"typeface_data\": typeface_data,\n",
    "                \"name\": name,\n",
    "                \"images\": images,\n",
    "                \"designers\": designers\n",
    "            }\n",
    "            results.append(result)\n",
    "        \n",
    "        # Lưu dữ liệu vào file kết quả\n",
    "        result_file_path = os.path.join('result', f'{os.path.basename(file_path)}.result.json')\n",
    "        with open(result_file_path, 'w', encoding='utf-8') as result_file:\n",
    "            json.dump(results, result_file, ensure_ascii=False, indent=4)\n",
    "\n",
    "def main():\n",
    "    folder_path = 'data'  # Đường dẫn đến thư mục chứa các tệp JSON\n",
    "    list_json_files = os.listdir(folder_path)\n",
    "    list_json_files = [file for file in list_json_files if file.endswith('.json')]\n",
    "    \n",
    "    os.makedirs('result', exist_ok=True)  # Tạo thư mục 'result' nếu chưa tồn tại\n",
    "    \n",
    "    with concurrent.futures.ThreadPoolExecutor() as executor:\n",
    "        executor.map(process_json_file, [os.path.join(folder_path, file) for file in list_json_files])\n",
    "\n",
    "if __name__ == \"__main__\":\n",
    "    main()\n"
   ],
   "metadata": {
    "collapsed": false,
    "ExecuteTime": {
     "end_time": "2023-08-29T05:37:53.993950200Z",
     "start_time": "2023-08-29T05:37:19.547663900Z"
    }
   },
   "id": "15362aa46898e48"
  },
  {
   "cell_type": "code",
   "execution_count": 8,
   "outputs": [
    {
     "name": "stdout",
     "output_type": "stream",
     "text": [
      "57400\n"
     ]
    }
   ],
   "source": [],
   "metadata": {
    "collapsed": false,
    "ExecuteTime": {
     "end_time": "2023-08-29T05:08:36.647877600Z",
     "start_time": "2023-08-29T05:08:36.617903500Z"
    }
   },
   "id": "496126352e279315"
  },
  {
   "cell_type": "code",
   "execution_count": null,
   "outputs": [],
   "source": [],
   "metadata": {
    "collapsed": false
   },
   "id": "3a77d832a1db79aa"
  }
 ],
 "metadata": {
  "kernelspec": {
   "display_name": "Python 3",
   "language": "python",
   "name": "python3"
  },
  "language_info": {
   "codemirror_mode": {
    "name": "ipython",
    "version": 2
   },
   "file_extension": ".py",
   "mimetype": "text/x-python",
   "name": "python",
   "nbconvert_exporter": "python",
   "pygments_lexer": "ipython2",
   "version": "2.7.6"
  }
 },
 "nbformat": 4,
 "nbformat_minor": 5
}
